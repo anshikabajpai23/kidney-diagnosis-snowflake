{
  "cells": [
    {
      "cell_type": "code",
      "execution_count": 1,
      "metadata": {
        "id": "PzfEtf1Edfu-"
      },
      "outputs": [],
      "source": [
        "import json\n",
        "import pandas as pd\n",
        "import os"
      ]
    },
    {
      "cell_type": "code",
      "execution_count": 6,
      "metadata": {
        "id": "oKPuh5eLncWS"
      },
      "outputs": [],
      "source": [
        "import pandas as pd\n",
        "import os\n",
        "\n",
        "try:\n",
        "    BASE_DIR = os.path.dirname(__file__)\n",
        "except NameError:\n",
        "    BASE_DIR = os.getcwd()\n",
        "\n",
        "csv_path = os.path.join(BASE_DIR, '..', 'kidney_disease.csv')\n",
        "df = pd.read_csv(csv_path)\n"
      ]
    },
    {
      "cell_type": "code",
      "execution_count": 8,
      "metadata": {
        "id": "GaimrGDFusF9"
      },
      "outputs": [],
      "source": [
        "creds_path = os.path.join(BASE_DIR, '..','creds.json')\n",
        "with open(creds_path) as f:\n",
        "    connection_parameters = json.load(f)"
      ]
    },
    {
      "cell_type": "code",
      "execution_count": 9,
      "metadata": {
        "id": "Vk-gwliKvvWH"
      },
      "outputs": [],
      "source": [
        "#Load the data\n",
        "df=pd.read_csv(csv_path)"
      ]
    },
    {
      "cell_type": "code",
      "execution_count": 10,
      "metadata": {
        "colab": {
          "base_uri": "https://localhost:8080/"
        },
        "id": "uMyo9oxI9QTK",
        "outputId": "7010c8fb-4a12-4edb-e132-8e09f7df6b1d"
      },
      "outputs": [
        {
          "name": "stdout",
          "output_type": "stream",
          "text": [
            "<class 'pandas.core.frame.DataFrame'>\n",
            "RangeIndex: 400 entries, 0 to 399\n",
            "Data columns (total 26 columns):\n",
            " #   Column          Non-Null Count  Dtype  \n",
            "---  ------          --------------  -----  \n",
            " 0   id              400 non-null    int64  \n",
            " 1   age             391 non-null    float64\n",
            " 2   bp              388 non-null    float64\n",
            " 3   sg              353 non-null    float64\n",
            " 4   al              354 non-null    float64\n",
            " 5   su              351 non-null    float64\n",
            " 6   rbc             248 non-null    object \n",
            " 7   pc              335 non-null    object \n",
            " 8   pcc             396 non-null    object \n",
            " 9   ba              396 non-null    object \n",
            " 10  bgr             356 non-null    float64\n",
            " 11  bu              381 non-null    float64\n",
            " 12  sc              383 non-null    float64\n",
            " 13  sod             313 non-null    float64\n",
            " 14  pot             312 non-null    float64\n",
            " 15  hemo            348 non-null    float64\n",
            " 16  pcv             330 non-null    object \n",
            " 17  wc              295 non-null    object \n",
            " 18  rc              270 non-null    object \n",
            " 19  htn             398 non-null    object \n",
            " 20  dm              398 non-null    object \n",
            " 21  cad             398 non-null    object \n",
            " 22  appet           399 non-null    object \n",
            " 23  pe              399 non-null    object \n",
            " 24  ane             399 non-null    object \n",
            " 25  classification  400 non-null    object \n",
            "dtypes: float64(11), int64(1), object(14)\n",
            "memory usage: 81.4+ KB\n"
          ]
        }
      ],
      "source": [
        "df.info()"
      ]
    },
    {
      "cell_type": "code",
      "execution_count": 11,
      "metadata": {
        "colab": {
          "base_uri": "https://localhost:8080/",
          "height": 235
        },
        "id": "j7PHLwvfQySJ",
        "outputId": "e530dae2-6e7f-4d0f-e908-726647ae0bf4"
      },
      "outputs": [
        {
          "data": {
            "text/html": [
              "<div>\n",
              "<style scoped>\n",
              "    .dataframe tbody tr th:only-of-type {\n",
              "        vertical-align: middle;\n",
              "    }\n",
              "\n",
              "    .dataframe tbody tr th {\n",
              "        vertical-align: top;\n",
              "    }\n",
              "\n",
              "    .dataframe thead th {\n",
              "        text-align: right;\n",
              "    }\n",
              "</style>\n",
              "<table border=\"1\" class=\"dataframe\">\n",
              "  <thead>\n",
              "    <tr style=\"text-align: right;\">\n",
              "      <th></th>\n",
              "      <th>id</th>\n",
              "      <th>age</th>\n",
              "      <th>bp</th>\n",
              "      <th>sg</th>\n",
              "      <th>al</th>\n",
              "      <th>su</th>\n",
              "      <th>rbc</th>\n",
              "      <th>pc</th>\n",
              "      <th>pcc</th>\n",
              "      <th>ba</th>\n",
              "      <th>...</th>\n",
              "      <th>pcv</th>\n",
              "      <th>wc</th>\n",
              "      <th>rc</th>\n",
              "      <th>htn</th>\n",
              "      <th>dm</th>\n",
              "      <th>cad</th>\n",
              "      <th>appet</th>\n",
              "      <th>pe</th>\n",
              "      <th>ane</th>\n",
              "      <th>classification</th>\n",
              "    </tr>\n",
              "  </thead>\n",
              "  <tbody>\n",
              "    <tr>\n",
              "      <th>0</th>\n",
              "      <td>0</td>\n",
              "      <td>48.0</td>\n",
              "      <td>80.0</td>\n",
              "      <td>1.020</td>\n",
              "      <td>1.0</td>\n",
              "      <td>0.0</td>\n",
              "      <td>NaN</td>\n",
              "      <td>normal</td>\n",
              "      <td>notpresent</td>\n",
              "      <td>notpresent</td>\n",
              "      <td>...</td>\n",
              "      <td>44</td>\n",
              "      <td>7800</td>\n",
              "      <td>5.2</td>\n",
              "      <td>yes</td>\n",
              "      <td>yes</td>\n",
              "      <td>no</td>\n",
              "      <td>good</td>\n",
              "      <td>no</td>\n",
              "      <td>no</td>\n",
              "      <td>ckd</td>\n",
              "    </tr>\n",
              "    <tr>\n",
              "      <th>1</th>\n",
              "      <td>1</td>\n",
              "      <td>7.0</td>\n",
              "      <td>50.0</td>\n",
              "      <td>1.020</td>\n",
              "      <td>4.0</td>\n",
              "      <td>0.0</td>\n",
              "      <td>NaN</td>\n",
              "      <td>normal</td>\n",
              "      <td>notpresent</td>\n",
              "      <td>notpresent</td>\n",
              "      <td>...</td>\n",
              "      <td>38</td>\n",
              "      <td>6000</td>\n",
              "      <td>NaN</td>\n",
              "      <td>no</td>\n",
              "      <td>no</td>\n",
              "      <td>no</td>\n",
              "      <td>good</td>\n",
              "      <td>no</td>\n",
              "      <td>no</td>\n",
              "      <td>ckd</td>\n",
              "    </tr>\n",
              "    <tr>\n",
              "      <th>2</th>\n",
              "      <td>2</td>\n",
              "      <td>62.0</td>\n",
              "      <td>80.0</td>\n",
              "      <td>1.010</td>\n",
              "      <td>2.0</td>\n",
              "      <td>3.0</td>\n",
              "      <td>normal</td>\n",
              "      <td>normal</td>\n",
              "      <td>notpresent</td>\n",
              "      <td>notpresent</td>\n",
              "      <td>...</td>\n",
              "      <td>31</td>\n",
              "      <td>7500</td>\n",
              "      <td>NaN</td>\n",
              "      <td>no</td>\n",
              "      <td>yes</td>\n",
              "      <td>no</td>\n",
              "      <td>poor</td>\n",
              "      <td>no</td>\n",
              "      <td>yes</td>\n",
              "      <td>ckd</td>\n",
              "    </tr>\n",
              "    <tr>\n",
              "      <th>3</th>\n",
              "      <td>3</td>\n",
              "      <td>48.0</td>\n",
              "      <td>70.0</td>\n",
              "      <td>1.005</td>\n",
              "      <td>4.0</td>\n",
              "      <td>0.0</td>\n",
              "      <td>normal</td>\n",
              "      <td>abnormal</td>\n",
              "      <td>present</td>\n",
              "      <td>notpresent</td>\n",
              "      <td>...</td>\n",
              "      <td>32</td>\n",
              "      <td>6700</td>\n",
              "      <td>3.9</td>\n",
              "      <td>yes</td>\n",
              "      <td>no</td>\n",
              "      <td>no</td>\n",
              "      <td>poor</td>\n",
              "      <td>yes</td>\n",
              "      <td>yes</td>\n",
              "      <td>ckd</td>\n",
              "    </tr>\n",
              "    <tr>\n",
              "      <th>4</th>\n",
              "      <td>4</td>\n",
              "      <td>51.0</td>\n",
              "      <td>80.0</td>\n",
              "      <td>1.010</td>\n",
              "      <td>2.0</td>\n",
              "      <td>0.0</td>\n",
              "      <td>normal</td>\n",
              "      <td>normal</td>\n",
              "      <td>notpresent</td>\n",
              "      <td>notpresent</td>\n",
              "      <td>...</td>\n",
              "      <td>35</td>\n",
              "      <td>7300</td>\n",
              "      <td>4.6</td>\n",
              "      <td>no</td>\n",
              "      <td>no</td>\n",
              "      <td>no</td>\n",
              "      <td>good</td>\n",
              "      <td>no</td>\n",
              "      <td>no</td>\n",
              "      <td>ckd</td>\n",
              "    </tr>\n",
              "  </tbody>\n",
              "</table>\n",
              "<p>5 rows × 26 columns</p>\n",
              "</div>"
            ],
            "text/plain": [
              "   id   age    bp     sg   al   su     rbc        pc         pcc          ba  \\\n",
              "0   0  48.0  80.0  1.020  1.0  0.0     NaN    normal  notpresent  notpresent   \n",
              "1   1   7.0  50.0  1.020  4.0  0.0     NaN    normal  notpresent  notpresent   \n",
              "2   2  62.0  80.0  1.010  2.0  3.0  normal    normal  notpresent  notpresent   \n",
              "3   3  48.0  70.0  1.005  4.0  0.0  normal  abnormal     present  notpresent   \n",
              "4   4  51.0  80.0  1.010  2.0  0.0  normal    normal  notpresent  notpresent   \n",
              "\n",
              "   ...  pcv    wc   rc  htn   dm  cad appet   pe  ane classification  \n",
              "0  ...   44  7800  5.2  yes  yes   no  good   no   no            ckd  \n",
              "1  ...   38  6000  NaN   no   no   no  good   no   no            ckd  \n",
              "2  ...   31  7500  NaN   no  yes   no  poor   no  yes            ckd  \n",
              "3  ...   32  6700  3.9  yes   no   no  poor  yes  yes            ckd  \n",
              "4  ...   35  7300  4.6   no   no   no  good   no   no            ckd  \n",
              "\n",
              "[5 rows x 26 columns]"
            ]
          },
          "execution_count": 11,
          "metadata": {},
          "output_type": "execute_result"
        }
      ],
      "source": [
        "df.head()"
      ]
    },
    {
      "cell_type": "markdown",
      "metadata": {
        "id": "mVgCAvSZQ49P"
      },
      "source": [
        "From the above data we can see that 'RC', 'WC' 'PCV' should be numeric datatype"
      ]
    },
    {
      "cell_type": "code",
      "execution_count": 12,
      "metadata": {
        "id": "ueX-LTVuNYL6"
      },
      "outputs": [],
      "source": [
        "#converting it into numeric\n",
        "df['rc']=pd.to_numeric(df['rc'],errors='coerce')\n",
        "df['wc']=pd.to_numeric(df['wc'],errors='coerce')\n",
        "df['pcv']=pd.to_numeric(df['pcv'],errors='coerce')\n"
      ]
    },
    {
      "cell_type": "code",
      "execution_count": 13,
      "metadata": {
        "id": "fjoqbN_49TWw"
      },
      "outputs": [],
      "source": [
        "df_numerical= df.select_dtypes(include=['int64','float64'])\n",
        "df_categorical=df.select_dtypes(include=['object'])"
      ]
    },
    {
      "cell_type": "code",
      "execution_count": 14,
      "metadata": {
        "colab": {
          "base_uri": "https://localhost:8080/",
          "height": 554
        },
        "id": "LDpuTXTz984E",
        "outputId": "834c6015-77ee-4c36-b62c-13357a5089f2"
      },
      "outputs": [
        {
          "data": {
            "text/plain": [
              "id        0\n",
              "age       9\n",
              "bp       12\n",
              "sg       47\n",
              "al       46\n",
              "su       49\n",
              "bgr      44\n",
              "bu       19\n",
              "sc       17\n",
              "sod      87\n",
              "pot      88\n",
              "hemo     52\n",
              "pcv      71\n",
              "wc      106\n",
              "rc      131\n",
              "dtype: int64"
            ]
          },
          "execution_count": 14,
          "metadata": {},
          "output_type": "execute_result"
        }
      ],
      "source": [
        "df_numerical.isna().sum()"
      ]
    },
    {
      "cell_type": "markdown",
      "metadata": {
        "id": "AR51QQTcRLnh"
      },
      "source": [
        "Filling the missing values with mean could be a good idea"
      ]
    },
    {
      "cell_type": "code",
      "execution_count": 15,
      "metadata": {
        "id": "I195yS1H-GJY"
      },
      "outputs": [],
      "source": [
        "from sklearn.impute import SimpleImputer\n",
        "import numpy as np\n",
        "imputer=SimpleImputer(missing_values = np.nan,strategy='mean')\n",
        "df_numerical=pd.DataFrame(imputer.fit_transform(df_numerical),columns=df_numerical.columns)"
      ]
    },
    {
      "cell_type": "code",
      "execution_count": 16,
      "metadata": {
        "colab": {
          "base_uri": "https://localhost:8080/",
          "height": 423
        },
        "id": "cEL2GWE5_Cx4",
        "outputId": "6dfd49d5-2355-443d-e512-dd03570fd0c3"
      },
      "outputs": [
        {
          "data": {
            "text/html": [
              "<div>\n",
              "<style scoped>\n",
              "    .dataframe tbody tr th:only-of-type {\n",
              "        vertical-align: middle;\n",
              "    }\n",
              "\n",
              "    .dataframe tbody tr th {\n",
              "        vertical-align: top;\n",
              "    }\n",
              "\n",
              "    .dataframe thead th {\n",
              "        text-align: right;\n",
              "    }\n",
              "</style>\n",
              "<table border=\"1\" class=\"dataframe\">\n",
              "  <thead>\n",
              "    <tr style=\"text-align: right;\">\n",
              "      <th></th>\n",
              "      <th>id</th>\n",
              "      <th>age</th>\n",
              "      <th>bp</th>\n",
              "      <th>sg</th>\n",
              "      <th>al</th>\n",
              "      <th>su</th>\n",
              "      <th>bgr</th>\n",
              "      <th>bu</th>\n",
              "      <th>sc</th>\n",
              "      <th>sod</th>\n",
              "      <th>pot</th>\n",
              "      <th>hemo</th>\n",
              "      <th>pcv</th>\n",
              "      <th>wc</th>\n",
              "      <th>rc</th>\n",
              "    </tr>\n",
              "  </thead>\n",
              "  <tbody>\n",
              "    <tr>\n",
              "      <th>0</th>\n",
              "      <td>0.0</td>\n",
              "      <td>48.0</td>\n",
              "      <td>80.0</td>\n",
              "      <td>1.020</td>\n",
              "      <td>1.0</td>\n",
              "      <td>0.0</td>\n",
              "      <td>121.000000</td>\n",
              "      <td>36.0</td>\n",
              "      <td>1.2</td>\n",
              "      <td>137.528754</td>\n",
              "      <td>4.627244</td>\n",
              "      <td>15.4</td>\n",
              "      <td>44.0</td>\n",
              "      <td>7800.0</td>\n",
              "      <td>5.200000</td>\n",
              "    </tr>\n",
              "    <tr>\n",
              "      <th>1</th>\n",
              "      <td>1.0</td>\n",
              "      <td>7.0</td>\n",
              "      <td>50.0</td>\n",
              "      <td>1.020</td>\n",
              "      <td>4.0</td>\n",
              "      <td>0.0</td>\n",
              "      <td>148.036517</td>\n",
              "      <td>18.0</td>\n",
              "      <td>0.8</td>\n",
              "      <td>137.528754</td>\n",
              "      <td>4.627244</td>\n",
              "      <td>11.3</td>\n",
              "      <td>38.0</td>\n",
              "      <td>6000.0</td>\n",
              "      <td>4.707435</td>\n",
              "    </tr>\n",
              "    <tr>\n",
              "      <th>2</th>\n",
              "      <td>2.0</td>\n",
              "      <td>62.0</td>\n",
              "      <td>80.0</td>\n",
              "      <td>1.010</td>\n",
              "      <td>2.0</td>\n",
              "      <td>3.0</td>\n",
              "      <td>423.000000</td>\n",
              "      <td>53.0</td>\n",
              "      <td>1.8</td>\n",
              "      <td>137.528754</td>\n",
              "      <td>4.627244</td>\n",
              "      <td>9.6</td>\n",
              "      <td>31.0</td>\n",
              "      <td>7500.0</td>\n",
              "      <td>4.707435</td>\n",
              "    </tr>\n",
              "    <tr>\n",
              "      <th>3</th>\n",
              "      <td>3.0</td>\n",
              "      <td>48.0</td>\n",
              "      <td>70.0</td>\n",
              "      <td>1.005</td>\n",
              "      <td>4.0</td>\n",
              "      <td>0.0</td>\n",
              "      <td>117.000000</td>\n",
              "      <td>56.0</td>\n",
              "      <td>3.8</td>\n",
              "      <td>111.000000</td>\n",
              "      <td>2.500000</td>\n",
              "      <td>11.2</td>\n",
              "      <td>32.0</td>\n",
              "      <td>6700.0</td>\n",
              "      <td>3.900000</td>\n",
              "    </tr>\n",
              "    <tr>\n",
              "      <th>4</th>\n",
              "      <td>4.0</td>\n",
              "      <td>51.0</td>\n",
              "      <td>80.0</td>\n",
              "      <td>1.010</td>\n",
              "      <td>2.0</td>\n",
              "      <td>0.0</td>\n",
              "      <td>106.000000</td>\n",
              "      <td>26.0</td>\n",
              "      <td>1.4</td>\n",
              "      <td>137.528754</td>\n",
              "      <td>4.627244</td>\n",
              "      <td>11.6</td>\n",
              "      <td>35.0</td>\n",
              "      <td>7300.0</td>\n",
              "      <td>4.600000</td>\n",
              "    </tr>\n",
              "    <tr>\n",
              "      <th>...</th>\n",
              "      <td>...</td>\n",
              "      <td>...</td>\n",
              "      <td>...</td>\n",
              "      <td>...</td>\n",
              "      <td>...</td>\n",
              "      <td>...</td>\n",
              "      <td>...</td>\n",
              "      <td>...</td>\n",
              "      <td>...</td>\n",
              "      <td>...</td>\n",
              "      <td>...</td>\n",
              "      <td>...</td>\n",
              "      <td>...</td>\n",
              "      <td>...</td>\n",
              "      <td>...</td>\n",
              "    </tr>\n",
              "    <tr>\n",
              "      <th>395</th>\n",
              "      <td>395.0</td>\n",
              "      <td>55.0</td>\n",
              "      <td>80.0</td>\n",
              "      <td>1.020</td>\n",
              "      <td>0.0</td>\n",
              "      <td>0.0</td>\n",
              "      <td>140.000000</td>\n",
              "      <td>49.0</td>\n",
              "      <td>0.5</td>\n",
              "      <td>150.000000</td>\n",
              "      <td>4.900000</td>\n",
              "      <td>15.7</td>\n",
              "      <td>47.0</td>\n",
              "      <td>6700.0</td>\n",
              "      <td>4.900000</td>\n",
              "    </tr>\n",
              "    <tr>\n",
              "      <th>396</th>\n",
              "      <td>396.0</td>\n",
              "      <td>42.0</td>\n",
              "      <td>70.0</td>\n",
              "      <td>1.025</td>\n",
              "      <td>0.0</td>\n",
              "      <td>0.0</td>\n",
              "      <td>75.000000</td>\n",
              "      <td>31.0</td>\n",
              "      <td>1.2</td>\n",
              "      <td>141.000000</td>\n",
              "      <td>3.500000</td>\n",
              "      <td>16.5</td>\n",
              "      <td>54.0</td>\n",
              "      <td>7800.0</td>\n",
              "      <td>6.200000</td>\n",
              "    </tr>\n",
              "    <tr>\n",
              "      <th>397</th>\n",
              "      <td>397.0</td>\n",
              "      <td>12.0</td>\n",
              "      <td>80.0</td>\n",
              "      <td>1.020</td>\n",
              "      <td>0.0</td>\n",
              "      <td>0.0</td>\n",
              "      <td>100.000000</td>\n",
              "      <td>26.0</td>\n",
              "      <td>0.6</td>\n",
              "      <td>137.000000</td>\n",
              "      <td>4.400000</td>\n",
              "      <td>15.8</td>\n",
              "      <td>49.0</td>\n",
              "      <td>6600.0</td>\n",
              "      <td>5.400000</td>\n",
              "    </tr>\n",
              "    <tr>\n",
              "      <th>398</th>\n",
              "      <td>398.0</td>\n",
              "      <td>17.0</td>\n",
              "      <td>60.0</td>\n",
              "      <td>1.025</td>\n",
              "      <td>0.0</td>\n",
              "      <td>0.0</td>\n",
              "      <td>114.000000</td>\n",
              "      <td>50.0</td>\n",
              "      <td>1.0</td>\n",
              "      <td>135.000000</td>\n",
              "      <td>4.900000</td>\n",
              "      <td>14.2</td>\n",
              "      <td>51.0</td>\n",
              "      <td>7200.0</td>\n",
              "      <td>5.900000</td>\n",
              "    </tr>\n",
              "    <tr>\n",
              "      <th>399</th>\n",
              "      <td>399.0</td>\n",
              "      <td>58.0</td>\n",
              "      <td>80.0</td>\n",
              "      <td>1.025</td>\n",
              "      <td>0.0</td>\n",
              "      <td>0.0</td>\n",
              "      <td>131.000000</td>\n",
              "      <td>18.0</td>\n",
              "      <td>1.1</td>\n",
              "      <td>141.000000</td>\n",
              "      <td>3.500000</td>\n",
              "      <td>15.8</td>\n",
              "      <td>53.0</td>\n",
              "      <td>6800.0</td>\n",
              "      <td>6.100000</td>\n",
              "    </tr>\n",
              "  </tbody>\n",
              "</table>\n",
              "<p>400 rows × 15 columns</p>\n",
              "</div>"
            ],
            "text/plain": [
              "        id   age    bp     sg   al   su         bgr    bu   sc         sod  \\\n",
              "0      0.0  48.0  80.0  1.020  1.0  0.0  121.000000  36.0  1.2  137.528754   \n",
              "1      1.0   7.0  50.0  1.020  4.0  0.0  148.036517  18.0  0.8  137.528754   \n",
              "2      2.0  62.0  80.0  1.010  2.0  3.0  423.000000  53.0  1.8  137.528754   \n",
              "3      3.0  48.0  70.0  1.005  4.0  0.0  117.000000  56.0  3.8  111.000000   \n",
              "4      4.0  51.0  80.0  1.010  2.0  0.0  106.000000  26.0  1.4  137.528754   \n",
              "..     ...   ...   ...    ...  ...  ...         ...   ...  ...         ...   \n",
              "395  395.0  55.0  80.0  1.020  0.0  0.0  140.000000  49.0  0.5  150.000000   \n",
              "396  396.0  42.0  70.0  1.025  0.0  0.0   75.000000  31.0  1.2  141.000000   \n",
              "397  397.0  12.0  80.0  1.020  0.0  0.0  100.000000  26.0  0.6  137.000000   \n",
              "398  398.0  17.0  60.0  1.025  0.0  0.0  114.000000  50.0  1.0  135.000000   \n",
              "399  399.0  58.0  80.0  1.025  0.0  0.0  131.000000  18.0  1.1  141.000000   \n",
              "\n",
              "          pot  hemo   pcv      wc        rc  \n",
              "0    4.627244  15.4  44.0  7800.0  5.200000  \n",
              "1    4.627244  11.3  38.0  6000.0  4.707435  \n",
              "2    4.627244   9.6  31.0  7500.0  4.707435  \n",
              "3    2.500000  11.2  32.0  6700.0  3.900000  \n",
              "4    4.627244  11.6  35.0  7300.0  4.600000  \n",
              "..        ...   ...   ...     ...       ...  \n",
              "395  4.900000  15.7  47.0  6700.0  4.900000  \n",
              "396  3.500000  16.5  54.0  7800.0  6.200000  \n",
              "397  4.400000  15.8  49.0  6600.0  5.400000  \n",
              "398  4.900000  14.2  51.0  7200.0  5.900000  \n",
              "399  3.500000  15.8  53.0  6800.0  6.100000  \n",
              "\n",
              "[400 rows x 15 columns]"
            ]
          },
          "execution_count": 16,
          "metadata": {},
          "output_type": "execute_result"
        }
      ],
      "source": [
        "df_numerical"
      ]
    },
    {
      "cell_type": "markdown",
      "metadata": {
        "id": "QHNBwFeWRSOr"
      },
      "source": [
        "Checking the null values again, No NULL values found!"
      ]
    },
    {
      "cell_type": "code",
      "execution_count": 17,
      "metadata": {
        "colab": {
          "base_uri": "https://localhost:8080/",
          "height": 554
        },
        "id": "44a0zYyO-kUK",
        "outputId": "a2e02f88-f9a0-4b50-b1ca-a5cc0c4dcc2c"
      },
      "outputs": [
        {
          "data": {
            "text/plain": [
              "id      0\n",
              "age     0\n",
              "bp      0\n",
              "sg      0\n",
              "al      0\n",
              "su      0\n",
              "bgr     0\n",
              "bu      0\n",
              "sc      0\n",
              "sod     0\n",
              "pot     0\n",
              "hemo    0\n",
              "pcv     0\n",
              "wc      0\n",
              "rc      0\n",
              "dtype: int64"
            ]
          },
          "execution_count": 17,
          "metadata": {},
          "output_type": "execute_result"
        }
      ],
      "source": [
        "df_numerical.isna().sum()"
      ]
    },
    {
      "cell_type": "markdown",
      "metadata": {
        "id": "FUiTWoigRZcP"
      },
      "source": [
        "PREPROCESSING of the categorical columns"
      ]
    },
    {
      "cell_type": "code",
      "execution_count": 18,
      "metadata": {
        "id": "BlfMBd_CKmSk"
      },
      "outputs": [],
      "source": [
        "# Fill missing values with a new category 'Unknown'\n",
        "categorical_col_names=df_categorical.columns\n",
        "df_categorical[categorical_col_names] = df[categorical_col_names].fillna('Unknown')\n",
        "\n",
        "#removing leading and trailing white spaces\n",
        "df_categorical = df_categorical.apply(lambda x: x.str.strip() if x.dtype == \"object\" else x)"
      ]
    },
    {
      "cell_type": "code",
      "execution_count": 19,
      "metadata": {
        "colab": {
          "base_uri": "https://localhost:8080/"
        },
        "id": "gqj54C8sQxLd",
        "outputId": "9bda23e6-88ca-436f-ded7-37f3100011cd"
      },
      "outputs": [
        {
          "data": {
            "text/plain": [
              "Index(['rbc', 'pc', 'pcc', 'ba', 'htn', 'dm', 'cad', 'appet', 'pe', 'ane',\n",
              "       'classification'],\n",
              "      dtype='object')"
            ]
          },
          "execution_count": 19,
          "metadata": {},
          "output_type": "execute_result"
        }
      ],
      "source": [
        "categorical_col_names"
      ]
    },
    {
      "cell_type": "code",
      "execution_count": 20,
      "metadata": {
        "colab": {
          "base_uri": "https://localhost:8080/"
        },
        "id": "liLyvMKoL43q",
        "outputId": "954eeaeb-f092-4c04-b1d9-8cdec98686b4"
      },
      "outputs": [
        {
          "name": "stdout",
          "output_type": "stream",
          "text": [
            "     rbc  pc  pcc  ba  htn  dm  cad  appet  pe  ane  classification\n",
            "0      0   2    1   1    1   1    0      1   0    0               1\n",
            "1      0   2    1   1    0   0    0      1   0    0               1\n",
            "2      2   2    1   1    0   1    0      0   0    1               1\n",
            "3      2   1    2   1    1   0    0      0   1    1               1\n",
            "4      2   2    1   1    0   0    0      1   0    0               1\n",
            "..   ...  ..  ...  ..  ...  ..  ...    ...  ..  ...             ...\n",
            "395    2   2    1   1    0   0    0      1   0    0               0\n",
            "396    2   2    1   1    0   0    0      1   0    0               0\n",
            "397    2   2    1   1    0   0    0      1   0    0               0\n",
            "398    2   2    1   1    0   0    0      1   0    0               0\n",
            "399    2   2    1   1    0   0    0      1   0    0               0\n",
            "\n",
            "[400 rows x 11 columns]\n"
          ]
        }
      ],
      "source": [
        "#converting categorical values into numerical\n",
        "from sklearn.preprocessing import LabelEncoder\n",
        "\n",
        "label_encoder = LabelEncoder()\n",
        "categorical_cols = ['rbc', 'pc', 'pcc', 'ba']\n",
        "\n",
        "for col in categorical_cols:\n",
        "    df_categorical[col] = label_encoder.fit_transform(df_categorical[col])\n",
        "\n",
        "#converting the below column values into binary, would be a good idea (as only 2 values are possible)\n",
        "binary_mapping = {'yes': 1, 'no': 0, 'good': 1, 'poor': 0, 'ckd': 1, 'notckd': 0,'Unknown':-1}\n",
        "df_categorical.replace(binary_mapping, inplace=True)\n",
        "\n",
        "\n",
        "print(df_categorical)\n"
      ]
    },
    {
      "cell_type": "code",
      "execution_count": 21,
      "metadata": {
        "colab": {
          "base_uri": "https://localhost:8080/",
          "height": 429
        },
        "id": "uvAo333XBIJX",
        "outputId": "7a9ba576-00be-42bd-8e75-0e238e241b0b"
      },
      "outputs": [
        {
          "data": {
            "text/plain": [
              "rbc               0\n",
              "pc                0\n",
              "pcc               0\n",
              "ba                0\n",
              "htn               0\n",
              "dm                0\n",
              "cad               0\n",
              "appet             0\n",
              "pe                0\n",
              "ane               0\n",
              "classification    0\n",
              "dtype: int64"
            ]
          },
          "execution_count": 21,
          "metadata": {},
          "output_type": "execute_result"
        }
      ],
      "source": [
        "#checking null values again\n",
        "df_categorical.isna().sum()"
      ]
    },
    {
      "cell_type": "code",
      "execution_count": 22,
      "metadata": {
        "colab": {
          "base_uri": "https://localhost:8080/"
        },
        "id": "UN25YooFBsft",
        "outputId": "4057617a-7580-45ab-ffae-033904b7525b"
      },
      "outputs": [
        {
          "data": {
            "text/plain": [
              "Index(['id', 'age', 'bp', 'sg', 'al', 'su', 'bgr', 'bu', 'sc', 'sod', 'pot',\n",
              "       'hemo', 'pcv', 'wc', 'rc'],\n",
              "      dtype='object')"
            ]
          },
          "execution_count": 22,
          "metadata": {},
          "output_type": "execute_result"
        }
      ],
      "source": [
        "df_numerical.columns\n"
      ]
    },
    {
      "cell_type": "markdown",
      "metadata": {
        "id": "xbGYEkv2Sd1A"
      },
      "source": [
        "Checking the distributions of all"
      ]
    },
    {
      "cell_type": "code",
      "execution_count": 25,
      "metadata": {
        "colab": {
          "base_uri": "https://localhost:8080/",
          "height": 807
        },
        "id": "Yy-tE5LP845F",
        "outputId": "00f2e094-7dd2-4c10-f472-d4ae9f620b65"
      },
      "outputs": [
        {
          "data": {
            "image/png": "[encoded data removed]",
            "text/plain": [
              "<Figure size 1000x800 with 15 Axes>"
            ]
          },
          "metadata": {},
          "output_type": "display_data"
        }
      ],
      "source": [
        "#Now we want to view the distibutions of ecah attribute and our label\n",
        "import matplotlib.pyplot as plt\n",
        "\n",
        "columns = df_numerical.columns\n",
        "\n",
        "#create a grid for each plot\n",
        "fig, axes = plt.subplots(len(columns)//3, 3, figsize=(10, 8))\n",
        "axes = axes.flatten()\n",
        "\n",
        "#plot the histogram distribution of each attribute and the label\n",
        "for i, column in enumerate(columns):\n",
        "    axes[i].hist(df_numerical[column], bins=30, edgecolor='black')\n",
        "    axes[i].set_title(f'Distribution of {column}')\n",
        "    axes[i].set_xlabel(column)\n",
        "    axes[i].set_ylabel('Count')\n",
        "    axes[i].grid(axis='y', alpha=0.75)\n",
        "\n",
        "plt.tight_layout()\n",
        "plt.show()"
      ]
    },
    {
      "cell_type": "markdown",
      "metadata": {
        "id": "AdHNwHGISkCx"
      },
      "source": [
        "Distributions of the below attributes look skewed, applying long transformation would be helpful."
      ]
    },
    {
      "cell_type": "code",
      "execution_count": 26,
      "metadata": {
        "id": "JIyKlgLNCenN"
      },
      "outputs": [],
      "source": [
        "df_numerical['bgr']=np.log1p(df_numerical['bgr'])\n",
        "df_numerical['bu']=np.log1p(df_numerical['bu'])\n",
        "df_numerical['sc']=np.log1p(df_numerical['sc'])\n",
        "df_numerical['bp']=np.log1p(df_numerical['bp'])\n",
        "df_numerical['wc']=np.log1p(df_numerical['wc'])\n",
        "df_numerical['pcv']=np.log1p(df_numerical['pcv'])"
      ]
    },
    {
      "cell_type": "code",
      "execution_count": 27,
      "metadata": {
        "id": "RyhVqLkeCutO"
      },
      "outputs": [],
      "source": [
        "#removing the outliers\n",
        "from scipy.stats.mstats import winsorize\n",
        "def remove_outliers(df):\n",
        "  df_updated=winsorize(df,limits=[0.05,0.05])\n",
        "  return df_updated"
      ]
    },
    {
      "cell_type": "code",
      "execution_count": 28,
      "metadata": {
        "id": "ZuYaLYyPHZnt"
      },
      "outputs": [],
      "source": [
        "df_numerical['sod']=remove_outliers(df_numerical['sod'])\n",
        "df_numerical['pot']=remove_outliers(df_numerical['pot'])"
      ]
    },
    {
      "cell_type": "code",
      "execution_count": 29,
      "metadata": {
        "colab": {
          "base_uri": "https://localhost:8080/",
          "height": 807
        },
        "id": "oANBbSRBHxzn",
        "outputId": "ea6ebaff-e994-49b8-8378-73919d4e5711"
      },
      "outputs": [
        {
          "data": {
            "image/png": "[encoded data removed]",
            "text/plain": [
              "<Figure size 1000x800 with 15 Axes>"
            ]
          },
          "metadata": {},
          "output_type": "display_data"
        }
      ],
      "source": [
        "import matplotlib.pyplot as plt\n",
        "\n",
        "columns = df_numerical.columns\n",
        "\n",
        "#create a grid for each plot\n",
        "fig, axes = plt.subplots(len(columns)//3, 3, figsize=(10, 8))\n",
        "axes = axes.flatten()\n",
        "\n",
        "#plot the histogram distribution of each attribute and the label\n",
        "for i, column in enumerate(columns):\n",
        "    axes[i].hist(df_numerical[column], bins=30, edgecolor='black')\n",
        "    axes[i].set_title(f'Distribution of {column}')\n",
        "    axes[i].set_xlabel(column)\n",
        "    axes[i].set_ylabel('Count')\n",
        "    axes[i].grid(axis='y', alpha=0.75)\n",
        "\n",
        "plt.tight_layout()\n",
        "plt.show()"
      ]
    },
    {
      "cell_type": "markdown",
      "metadata": {
        "id": "hAXdvu5zTmvj"
      },
      "source": [
        "The distributions look better this time. Normally distributed in most cases."
      ]
    },
    {
      "cell_type": "code",
      "execution_count": 30,
      "metadata": {
        "id": "MNpwZ2gowt7Q"
      },
      "outputs": [],
      "source": [
        "df_new=pd.concat([df_numerical,df_categorical],axis=1)"
      ]
    },
    {
      "cell_type": "code",
      "execution_count": 31,
      "metadata": {
        "colab": {
          "base_uri": "https://localhost:8080/",
          "height": 235
        },
        "id": "pJinrmJLIgk4",
        "outputId": "f59e4180-0761-4a21-8458-2b92676ebad5"
      },
      "outputs": [
        {
          "data": {
            "text/html": [
              "<div>\n",
              "<style scoped>\n",
              "    .dataframe tbody tr th:only-of-type {\n",
              "        vertical-align: middle;\n",
              "    }\n",
              "\n",
              "    .dataframe tbody tr th {\n",
              "        vertical-align: top;\n",
              "    }\n",
              "\n",
              "    .dataframe thead th {\n",
              "        text-align: right;\n",
              "    }\n",
              "</style>\n",
              "<table border=\"1\" class=\"dataframe\">\n",
              "  <thead>\n",
              "    <tr style=\"text-align: right;\">\n",
              "      <th></th>\n",
              "      <th>id</th>\n",
              "      <th>age</th>\n",
              "      <th>bp</th>\n",
              "      <th>sg</th>\n",
              "      <th>al</th>\n",
              "      <th>su</th>\n",
              "      <th>bgr</th>\n",
              "      <th>bu</th>\n",
              "      <th>sc</th>\n",
              "      <th>sod</th>\n",
              "      <th>...</th>\n",
              "      <th>pc</th>\n",
              "      <th>pcc</th>\n",
              "      <th>ba</th>\n",
              "      <th>htn</th>\n",
              "      <th>dm</th>\n",
              "      <th>cad</th>\n",
              "      <th>appet</th>\n",
              "      <th>pe</th>\n",
              "      <th>ane</th>\n",
              "      <th>classification</th>\n",
              "    </tr>\n",
              "  </thead>\n",
              "  <tbody>\n",
              "    <tr>\n",
              "      <th>395</th>\n",
              "      <td>395.0</td>\n",
              "      <td>55.0</td>\n",
              "      <td>4.394449</td>\n",
              "      <td>1.020</td>\n",
              "      <td>0.0</td>\n",
              "      <td>0.0</td>\n",
              "      <td>4.948760</td>\n",
              "      <td>3.912023</td>\n",
              "      <td>0.405465</td>\n",
              "      <td>147.0</td>\n",
              "      <td>...</td>\n",
              "      <td>2</td>\n",
              "      <td>1</td>\n",
              "      <td>1</td>\n",
              "      <td>0</td>\n",
              "      <td>0</td>\n",
              "      <td>0</td>\n",
              "      <td>1</td>\n",
              "      <td>0</td>\n",
              "      <td>0</td>\n",
              "      <td>0</td>\n",
              "    </tr>\n",
              "    <tr>\n",
              "      <th>396</th>\n",
              "      <td>396.0</td>\n",
              "      <td>42.0</td>\n",
              "      <td>4.262680</td>\n",
              "      <td>1.025</td>\n",
              "      <td>0.0</td>\n",
              "      <td>0.0</td>\n",
              "      <td>4.330733</td>\n",
              "      <td>3.465736</td>\n",
              "      <td>0.788457</td>\n",
              "      <td>141.0</td>\n",
              "      <td>...</td>\n",
              "      <td>2</td>\n",
              "      <td>1</td>\n",
              "      <td>1</td>\n",
              "      <td>0</td>\n",
              "      <td>0</td>\n",
              "      <td>0</td>\n",
              "      <td>1</td>\n",
              "      <td>0</td>\n",
              "      <td>0</td>\n",
              "      <td>0</td>\n",
              "    </tr>\n",
              "    <tr>\n",
              "      <th>397</th>\n",
              "      <td>397.0</td>\n",
              "      <td>12.0</td>\n",
              "      <td>4.394449</td>\n",
              "      <td>1.020</td>\n",
              "      <td>0.0</td>\n",
              "      <td>0.0</td>\n",
              "      <td>4.615121</td>\n",
              "      <td>3.295837</td>\n",
              "      <td>0.470004</td>\n",
              "      <td>137.0</td>\n",
              "      <td>...</td>\n",
              "      <td>2</td>\n",
              "      <td>1</td>\n",
              "      <td>1</td>\n",
              "      <td>0</td>\n",
              "      <td>0</td>\n",
              "      <td>0</td>\n",
              "      <td>1</td>\n",
              "      <td>0</td>\n",
              "      <td>0</td>\n",
              "      <td>0</td>\n",
              "    </tr>\n",
              "    <tr>\n",
              "      <th>398</th>\n",
              "      <td>398.0</td>\n",
              "      <td>17.0</td>\n",
              "      <td>4.110874</td>\n",
              "      <td>1.025</td>\n",
              "      <td>0.0</td>\n",
              "      <td>0.0</td>\n",
              "      <td>4.744932</td>\n",
              "      <td>3.931826</td>\n",
              "      <td>0.693147</td>\n",
              "      <td>135.0</td>\n",
              "      <td>...</td>\n",
              "      <td>2</td>\n",
              "      <td>1</td>\n",
              "      <td>1</td>\n",
              "      <td>0</td>\n",
              "      <td>0</td>\n",
              "      <td>0</td>\n",
              "      <td>1</td>\n",
              "      <td>0</td>\n",
              "      <td>0</td>\n",
              "      <td>0</td>\n",
              "    </tr>\n",
              "    <tr>\n",
              "      <th>399</th>\n",
              "      <td>399.0</td>\n",
              "      <td>58.0</td>\n",
              "      <td>4.394449</td>\n",
              "      <td>1.025</td>\n",
              "      <td>0.0</td>\n",
              "      <td>0.0</td>\n",
              "      <td>4.882802</td>\n",
              "      <td>2.944439</td>\n",
              "      <td>0.741937</td>\n",
              "      <td>141.0</td>\n",
              "      <td>...</td>\n",
              "      <td>2</td>\n",
              "      <td>1</td>\n",
              "      <td>1</td>\n",
              "      <td>0</td>\n",
              "      <td>0</td>\n",
              "      <td>0</td>\n",
              "      <td>1</td>\n",
              "      <td>0</td>\n",
              "      <td>0</td>\n",
              "      <td>0</td>\n",
              "    </tr>\n",
              "  </tbody>\n",
              "</table>\n",
              "<p>5 rows × 26 columns</p>\n",
              "</div>"
            ],
            "text/plain": [
              "        id   age        bp     sg   al   su       bgr        bu        sc  \\\n",
              "395  395.0  55.0  4.394449  1.020  0.0  0.0  4.948760  3.912023  0.405465   \n",
              "396  396.0  42.0  4.262680  1.025  0.0  0.0  4.330733  3.465736  0.788457   \n",
              "397  397.0  12.0  4.394449  1.020  0.0  0.0  4.615121  3.295837  0.470004   \n",
              "398  398.0  17.0  4.110874  1.025  0.0  0.0  4.744932  3.931826  0.693147   \n",
              "399  399.0  58.0  4.394449  1.025  0.0  0.0  4.882802  2.944439  0.741937   \n",
              "\n",
              "       sod  ...  pc  pcc  ba  htn  dm  cad  appet  pe  ane  classification  \n",
              "395  147.0  ...   2    1   1    0   0    0      1   0    0               0  \n",
              "396  141.0  ...   2    1   1    0   0    0      1   0    0               0  \n",
              "397  137.0  ...   2    1   1    0   0    0      1   0    0               0  \n",
              "398  135.0  ...   2    1   1    0   0    0      1   0    0               0  \n",
              "399  141.0  ...   2    1   1    0   0    0      1   0    0               0  \n",
              "\n",
              "[5 rows x 26 columns]"
            ]
          },
          "execution_count": 31,
          "metadata": {},
          "output_type": "execute_result"
        }
      ],
      "source": [
        "df_new.tail()"
      ]
    },
    {
      "cell_type": "code",
      "execution_count": 32,
      "metadata": {
        "colab": {
          "base_uri": "https://localhost:8080/",
          "height": 899
        },
        "id": "w4OgYAptxFVO",
        "outputId": "ef3461bd-86f0-4a3c-c0ee-b4247886d505"
      },
      "outputs": [
        {
          "data": {
            "text/plain": [
              "id                0\n",
              "age               0\n",
              "bp                0\n",
              "sg                0\n",
              "al                0\n",
              "su                0\n",
              "bgr               0\n",
              "bu                0\n",
              "sc                0\n",
              "sod               0\n",
              "pot               0\n",
              "hemo              0\n",
              "pcv               0\n",
              "wc                0\n",
              "rc                0\n",
              "rbc               0\n",
              "pc                0\n",
              "pcc               0\n",
              "ba                0\n",
              "htn               0\n",
              "dm                0\n",
              "cad               0\n",
              "appet             0\n",
              "pe                0\n",
              "ane               0\n",
              "classification    0\n",
              "dtype: int64"
            ]
          },
          "execution_count": 32,
          "metadata": {},
          "output_type": "execute_result"
        }
      ],
      "source": [
        "df_new.isna().sum()"
      ]
    },
    {
      "cell_type": "markdown",
      "metadata": {
        "id": "KkdeW2I0T3UK"
      },
      "source": [
        "Checking the class distributions below:\n",
        "\n",
        "\n"
      ]
    },
    {
      "cell_type": "code",
      "execution_count": 33,
      "metadata": {
        "colab": {
          "base_uri": "https://localhost:8080/",
          "height": 410
        },
        "id": "-KnlNBN85I1_",
        "outputId": "1718a298-1201-4eac-896e-3144d8887788"
      },
      "outputs": [
        {
          "data": {
            "image/png": "[encoded data removed]",
            "text/plain": [
              "<Figure size 600x400 with 1 Axes>"
            ]
          },
          "metadata": {},
          "output_type": "display_data"
        }
      ],
      "source": [
        "import matplotlib.pyplot as plt\n",
        "\n",
        "class_counts = df_new['classification'].value_counts()\n",
        "\n",
        "plt.figure(figsize=(6,4))\n",
        "class_counts.plot(kind='bar',color=['blue','green'])\n",
        "plt.xlabel('Class')\n",
        "plt.ylabel('Count')\n",
        "plt.title('Class Distribution')\n",
        "plt.xticks(rotation=0)\n",
        "plt.show()"
      ]
    },
    {
      "cell_type": "markdown",
      "metadata": {
        "id": "ZKacplgyT7fQ"
      },
      "source": [
        "We can observed that there is class imbalance present, for this project we are not handling this. But approches like downsampling, upsampling, SMORTE can be helpful in dealing with class imbalance datasets."
      ]
    },
    {
      "cell_type": "code",
      "execution_count": 35,
      "metadata": {
        "id": "VLyo8PwOzGU_"
      },
      "outputs": [],
      "source": [
        "import seaborn as sns"
      ]
    },
    {
      "cell_type": "markdown",
      "metadata": {
        "id": "8DfF5CaXUQi0"
      },
      "source": [
        "heatmap to check the correlation"
      ]
    },
    {
      "cell_type": "code",
      "execution_count": 36,
      "metadata": {
        "colab": {
          "base_uri": "https://localhost:8080/",
          "height": 776
        },
        "id": "i9hqIjr1yTMN",
        "outputId": "bc9f5f60-052a-40ca-86b6-b990370e3481"
      },
      "outputs": [
        {
          "data": {
            "text/plain": [
              "<Axes: >"
            ]
          },
          "execution_count": 36,
          "metadata": {},
          "output_type": "execute_result"
        },
        {
          "data": {
            "image/png": "[encoded data removed]",
            "text/plain": [
              "<Figure size 900x900 with 2 Axes>"
            ]
          },
          "metadata": {},
          "output_type": "display_data"
        }
      ],
      "source": [
        "matrix = df_numerical.corr(method='pearson')\n",
        "# relation=matrix['Classification']\n",
        "plt.figure(figsize=(9,9))\n",
        "sns.heatmap(matrix, annot = True)"
      ]
    },
    {
      "cell_type": "code",
      "execution_count": 37,
      "metadata": {
        "id": "4cHp5GAuSctm"
      },
      "outputs": [],
      "source": [
        "df_new=df_new.drop('id',axis=1)"
      ]
    },
    {
      "cell_type": "markdown",
      "metadata": {
        "id": "kcmRBN7YUgLk"
      },
      "source": [
        "Converting the dataset and maintaining the class distribution."
      ]
    },
    {
      "cell_type": "code",
      "execution_count": 38,
      "metadata": {
        "colab": {
          "base_uri": "https://localhost:8080/"
        },
        "id": "nxhMgbqkUUrU",
        "outputId": "73769ca4-d3dc-4194-8be8-4440ca36f7e1"
      },
      "outputs": [
        {
          "name": "stdout",
          "output_type": "stream",
          "text": [
            "Training set shape: (320, 25)\n",
            "Test set shape: (80, 25)\n"
          ]
        }
      ],
      "source": [
        "from sklearn.model_selection import train_test_split\n",
        "# Split the DataFrame\n",
        "train_df, test_df = train_test_split(df_new, test_size=0.2, stratify=df_new['classification'],random_state=42)\n",
        "\n",
        "# train_df contains 80% of the data\n",
        "# test_df contains 20% of the data\n",
        "\n",
        "print(\"Training set shape:\", train_df.shape)\n",
        "print(\"Test set shape:\", test_df.shape)"
      ]
    },
    {
      "cell_type": "code",
      "execution_count": 39,
      "metadata": {
        "colab": {
          "base_uri": "https://localhost:8080/",
          "height": 410
        },
        "id": "hl-O1C4vVZ5r",
        "outputId": "ea8f589b-d82b-4a63-86ed-217ffd40790f"
      },
      "outputs": [
        {
          "data": {
            "image/png": "[encoded data removed]",
            "text/plain": [
              "<Figure size 600x400 with 1 Axes>"
            ]
          },
          "metadata": {},
          "output_type": "display_data"
        }
      ],
      "source": [
        "#distribution of train df\n",
        "import matplotlib.pyplot as plt\n",
        "\n",
        "class_counts = train_df['classification'].value_counts()\n",
        "\n",
        "plt.figure(figsize=(6,4))\n",
        "class_counts.plot(kind='bar',color=['blue','green'])\n",
        "plt.xlabel('Class')\n",
        "plt.ylabel('Count')\n",
        "plt.title('Class Distribution')\n",
        "plt.xticks(rotation=0)\n",
        "plt.show()"
      ]
    },
    {
      "cell_type": "code",
      "execution_count": 40,
      "metadata": {
        "colab": {
          "base_uri": "https://localhost:8080/",
          "height": 410
        },
        "id": "HzonrZoKVaaw",
        "outputId": "a3609c22-4ddd-464b-d7ed-08fdca56bba7"
      },
      "outputs": [
        {
          "data": {
            "image/png": "[encoded data removed]",
            "text/plain": [
              "<Figure size 600x400 with 1 Axes>"
            ]
          },
          "metadata": {},
          "output_type": "display_data"
        }
      ],
      "source": [
        "#distribution of test df\n",
        "import matplotlib.pyplot as plt\n",
        "\n",
        "class_counts = test_df['classification'].value_counts()\n",
        "\n",
        "plt.figure(figsize=(6,4))\n",
        "class_counts.plot(kind='bar',color=['blue','green'])\n",
        "plt.xlabel('Class')\n",
        "plt.ylabel('Count')\n",
        "plt.title('Class Distribution')\n",
        "plt.xticks(rotation=0)\n",
        "plt.show()"
      ]
    },
    {
      "cell_type": "code",
      "execution_count": 41,
      "metadata": {
        "id": "r3luqCcSoAjJ"
      },
      "outputs": [],
      "source": [
        "\n",
        "# Save train and test files\n",
        "train_df.to_csv(os.path.join(BASE_DIR, 'kidney_disease_train.csv'), index=False)\n",
        "test_df.to_csv(os.path.join(BASE_DIR, 'kidney_disease_test.csv'), index=False)\n"
      ]
    },
    {
      "cell_type": "code",
      "execution_count": null,
      "metadata": {},
      "outputs": [],
      "source": []
    },
    {
      "cell_type": "code",
      "execution_count": null,
      "metadata": {},
      "outputs": [],
      "source": []
    }
  ],
  "metadata": {
    "colab": {
      "provenance": []
    },
    "kernelspec": {
      "display_name": ".venv",
      "language": "python",
      "name": "python3"
    },
    "language_info": {
      "codemirror_mode": {
        "name": "ipython",
        "version": 3
      },
      "file_extension": ".py",
      "mimetype": "text/x-python",
      "name": "python",
      "nbconvert_exporter": "python",
      "pygments_lexer": "ipython3",
      "version": "3.10.19"
    }
  },
  "nbformat": 4,
  "nbformat_minor": 0
}
